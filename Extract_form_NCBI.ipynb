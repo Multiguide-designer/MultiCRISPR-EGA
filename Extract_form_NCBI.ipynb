{
 "cells": [
  {
   "cell_type": "code",
   "execution_count": 1,
   "metadata": {},
   "outputs": [],
   "source": [
    "import ssl \n",
    "\n",
    "# Disable SSL verification\n",
    "ssl._create_default_https_context = ssl._create_unverified_context\n",
    "\n",
    "from Bio import Entrez, SeqIO \n",
    "\n",
    "# Fetch the E. coli MG1655 genome\n",
    "def fetch_ecoli_genome(): \n",
    "    '''\n",
    "    This function is used to obtain the genome data of E. coli MG1655 from the NCBI database. It retrieves data by the specified GenBank ID (\"U00096.3\")\n",
    "    '''\n",
    "    \n",
    "    Entrez.email = \"xxx@qq.com\"  \n",
    "    handle = Entrez.efetch(db=\"nucleotide\", id=\"U00096.3\", rettype=\"gb\", retmode=\"text\") \n",
    "    record = SeqIO.read(handle, \"genbank\")\n",
    "    handle.close()\n",
    "    return record\n",
    "\n",
    "def find_gene_position(record, gene_name):\n",
    "    for feature in record.features:\n",
    "        if feature.type == \"CDS\" and \"gene\" in feature.qualifiers:\n",
    "            if feature.qualifiers[\"gene\"][0] == gene_name:\n",
    "                return feature.location.start, feature.location.end\n",
    "    return None  \n",
    "\n",
    "record = fetch_ecoli_genome()\n"
   ]
  },
  {
   "cell_type": "code",
   "execution_count": 2,
   "metadata": {},
   "outputs": [
    {
     "name": "stdout",
     "output_type": "stream",
     "text": [
      "Found gene gpmA at positions 786842 to 787595\n",
      "Gene sequence:\n",
      "GATAAGTCGCGCAGCGTCGCATCAGGCAATGTGCTCCATTGTTAGCAACAAAAAAGCCGACTCACTTGCAGTCGGCTTTCTCATTTTAAACGAATGACGTTTACTTCGCTTTACCCTGGTTTGCAACCGCCGCTGCTTTCGCTGCGATCTCGTCAGCATTACCCAGATAATAGCGTTTCAGCGGTTTGAAATTCTCGTCGAACTCATACACCAGCGGCACGCCAGTCGGGATATTAAGCTCAAGAATCTCTTCTTCGCTCATGTTATCAAGATATTTCACCAGCGCACGTAAAGAGTTACCGTGTGCAGCGATGATCACGCGCTCACCGCTCTTCATACGCGGCAGAATAGTTTCATTCCAGTAAGGGATCACGCGGTCAATGGTCAGCGCCAGGCTTTCCGTCAGCGGCAGTTCTTTCTCGCTCAGTTTCGCGTAACGCGGATCGTGACCCGGATAACGCTCATCATCTTTAGTCAGTTCCGGCGGAGTCACTGCAAAACCACGACGCCACTGTTTCACCTGCTCGTCGCCATACTTTTCAGCAGTTTCCGCTTTGTTCAGACCCTGCAACGCACCGTAGTGACGTTCGTTCAGTTTCCAGGATTTCTCAACGGGCAGCCATGCCTGATCCAGTTCGTCCAGCACATTCCACAGGGTATGGATAGCGCGTTTCAGCACAGAAGTGTAAGCAAAGTCAAAGCTGTAACCTTCCTCTTTCAGCAGCTTACCTGCTGCTTTTGCTTCGCTTACGCCTTTCTCAGACAGATCCACGTCGTACCAACCGGTGAAACGGTTTTCTTTGTTCCACTGACTTTCGCCATGACGAACCAGAACCAGCTTAGTTACAGCCAT\n",
      "Length:  853\n",
      "Found gene gpmA -100:300 position:\n",
      "GATAAGTCGCGCAGCGTCGCATCAGGCAATGTGCTCCATTGTTAGCAACAAAAAAGCCGACTCACTTGCAGTCGGCTTTCTCATTTTAAACGAATGACGTTTACTTCGCTTTACCCTGGTTTGCAACCGCCGCTGCTTTCGCTGCGATCTCGTCAGCATTACCCAGATAATAGCGTTTCAGCGGTTTGAAATTCTCGTCGAACTCATACACCAGCGGCACGCCAGTCGGGATATTAAGCTCAAGAATCTCTTCTTCGCTCATGTTATCAAGATATTTCACCAGCGCACGTAAAGAGTTACCGTGTGCAGCGATGATCACGCGCTCACCGCTCTTCATACGCGGCAGAATAGTTTCATTCCAGTAAGGGATCACGCGGTCAATGGTCAGCGCCAGGCTTTC\n",
      "Length:  400\n"
     ]
    }
   ],
   "source": [
    "## This module is used to extract specific genes in the genome\n",
    "genes_to_extract =['gpmA', 'fbaA', 'pykF', 'pfkB', 'pykA', 'gpmM', 'pfkA', 'fbaB']\n",
    "gene_name = \"gpmA\"\n",
    "gene_position = find_gene_position(record, gene_name)\n",
    "\n",
    "if gene_position is not None:\n",
    "    gene_seq = record.seq[gene_position[0]-100:gene_position[1]].lower()\n",
    "    print(f\"Found gene {gene_name} at positions {gene_position[0]} to {gene_position[1]}\")\n",
    "    print(f\"Gene sequence:\\n{gene_seq.upper()}\")\n",
    "    print('Length: ',len(gene_seq.upper()))\n",
    "    \n",
    "    print(f\"Found gene {gene_name} -100:300 position:\")\n",
    "    gene_truncate = record.seq[gene_position[0]-100:gene_position[0]+300].lower()\n",
    "    print(gene_truncate.upper())\n",
    "    print('Length: ',len(gene_truncate.upper()))\n",
    "\n",
    "else:\n",
    "    print(f\"Gene {gene_name} not found in the genome.\") "
   ]
  },
  {
   "cell_type": "code",
   "execution_count": 3,
   "metadata": {},
   "outputs": [
    {
     "name": "stdout",
     "output_type": "stream",
     "text": [
      "FASTA file saved as gpmA.fasta\n"
     ]
    }
   ],
   "source": [
    "## This module is used to extract and save gene sequences.\n",
    "from Bio.SeqRecord import SeqRecord\n",
    "from Bio.Seq import Seq\n",
    "def save_as_fasta(seq, gene_name, start, end, filename):\n",
    "    fasta_record = SeqRecord(Seq(seq.upper()), id=gene_name, description=f\"{gene_name} gene from position {start} to {end}\")\n",
    "    with open(filename, \"w\") as output_handle:\n",
    "        SeqIO.write(fasta_record, output_handle, \"fasta\")\n",
    "    print(f\"FASTA file saved as {filename}\")\n",
    "\n",
    "# Save gene sequence as FASTA\n",
    "save_as_fasta(gene_seq, gene_name, gene_position[0], gene_position[1], f\"{gene_name}.fasta\")"
   ]
  },
  {
   "cell_type": "code",
   "execution_count": 4,
   "metadata": {},
   "outputs": [
    {
     "name": "stdout",
     "output_type": "stream",
     "text": [
      "FASTA file of the complete genome saved as ecoli_mg1655_genome.fasta\n"
     ]
    }
   ],
   "source": [
    "## This module is used to extract and preserve genome sequences\n",
    "def save_genome_as_fasta(record, filename):\n",
    "    genome_seq = record.seq\n",
    "    genome_record = SeqRecord(genome_seq, id=record.id, description=\"E. coli MG1655 complete genome\")\n",
    "    with open(filename, \"w\") as output_handle:\n",
    "        SeqIO.write(genome_record, output_handle, \"fasta\")\n",
    "    print(f\"FASTA file of the complete genome saved as {filename}\")\n",
    "save_genome_as_fasta(record, \"ecoli_mg1655_genome.fasta\")"
   ]
  },
  {
   "cell_type": "code",
   "execution_count": 5,
   "metadata": {},
   "outputs": [
    {
     "name": "stdout",
     "output_type": "stream",
     "text": [
      "9980\n",
      "1247.5\n"
     ]
    }
   ],
   "source": [
    "## This module is used to calculate the average length of extracted genes\n",
    "genes_to_extract =['gpmA', 'fbaA', 'pykF', 'pfkB', 'pykA', 'gpmM', 'pfkA', 'fbaB']\n",
    "gene_long = 0\n",
    "for gene_name in genes_to_extract:\n",
    "    gene_position = find_gene_position(record, gene_name)\n",
    "    if gene_position is not None:\n",
    "        gene_seq = record.seq[gene_position[0]-100:gene_position[1]].lower()\n",
    "        gene_long += len(gene_seq)\n",
    "print(gene_long)\n",
    "print(gene_long/8)"
   ]
  }
 ],
 "metadata": {
  "kernelspec": {
   "display_name": "bio",
   "language": "python",
   "name": "python3"
  },
  "language_info": {
   "codemirror_mode": {
    "name": "ipython",
    "version": 3
   },
   "file_extension": ".py",
   "mimetype": "text/x-python",
   "name": "python",
   "nbconvert_exporter": "python",
   "pygments_lexer": "ipython3",
   "version": "3.10.14"
  },
  "orig_nbformat": 4
 },
 "nbformat": 4,
 "nbformat_minor": 2
}
